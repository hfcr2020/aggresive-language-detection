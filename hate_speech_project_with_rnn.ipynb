{
 "cells": [
  {
   "cell_type": "markdown",
   "metadata": {},
   "source": [
    "# Hate Speech Classifier"
   ]
  },
  {
   "cell_type": "markdown",
   "metadata": {},
   "source": [
    "## Import libraries\n",
    "Along the project we will use different libraries to: load the data from a CSV files (pandas), preprocess the data (re, string, nltk), create the training and test datasets (sklearn) and of course TensorFlow for all Machine Learning modeling"
   ]
  },
  {
   "cell_type": "code",
   "execution_count": 1,
   "metadata": {},
   "outputs": [
    {
     "name": "stdout",
     "output_type": "stream",
     "text": [
      "2.3.0\n"
     ]
    }
   ],
   "source": [
    "import re\n",
    "import numpy\n",
    "import string\n",
    "import pandas as pd\n",
    "import tensorflow as tf\n",
    "import tensorflow_datasets as tfds\n",
    "\n",
    "import matplotlib.pyplot as plt\n",
    "from sklearn.model_selection import train_test_split\n",
    "from nltk.tokenize import TweetTokenizer\n",
    "\n",
    "from tensorflow.keras import layers\n",
    "from tensorflow.keras import losses\n",
    "from tensorflow.keras import preprocessing\n",
    "from tensorflow.keras.layers.experimental.preprocessing import TextVectorization\n",
    "\n",
    "print(tf.__version__) #Make sure to use the latest TensorFlow verion (nightly)"
   ]
  },
  {
   "cell_type": "markdown",
   "metadata": {},
   "source": [
    "## Custom Functions\n",
    "Here we will define custom functions used along the project to plot, preprocess the data and vectorize it"
   ]
  },
  {
   "cell_type": "code",
   "execution_count": 2,
   "metadata": {},
   "outputs": [],
   "source": [
    "def plot_graphs(history, metric):\n",
    "    \"\"\"Plot metrics against epochs \"\"\"\n",
    "    plt.plot(history.history[metric])\n",
    "    plt.plot(history.history['val_'+ metric], '')\n",
    "    plt.xlabel(\"Epochs\")\n",
    "    plt.ylabel(metric)\n",
    "    plt.legend([metric, 'val_'+ metric])\n",
    "    plt.show()"
   ]
  },
  {
   "cell_type": "code",
   "execution_count": 3,
   "metadata": {},
   "outputs": [],
   "source": [
    "tweet_tokenizer = TweetTokenizer()\n",
    "\n",
    "def remove_username(tweet):\n",
    "    \"\"\"Replaces tweeter usernames for standard names \n",
    "    \n",
    "    # Arguments\n",
    "        input_data: tweet to clean.\n",
    "    \"\"\"\n",
    "    tokenized_tweet = tweet_tokenizer.tokenize(tweet) #Tokenize the tweet preserving the @ symbol\n",
    "    count = 0\n",
    "    sub_counter = 0\n",
    "    for word in tokenized_tweet:\n",
    "        if (re.match('^@.*', word) != None): #Matches any username\n",
    "            sub_counter = sub_counter + 1\n",
    "            tokenized_tweet[count] = re.sub('^@.*', '@Subject' + str(sub_counter), word)\n",
    "        count = count + 1\n",
    "    return \" \".join(tokenized_tweet)"
   ]
  },
  {
   "cell_type": "code",
   "execution_count": 4,
   "metadata": {},
   "outputs": [],
   "source": [
    "def custom_standardization(input_data):\n",
    "    \"\"\"Clean and transform input data to lowercase\n",
    "    \n",
    "    # Arguments\n",
    "        input_data: tweet to clean.\n",
    "    \"\"\"\n",
    "    lowercase = tf.strings.lower(input_data)\n",
    "    remove_colors = tf.strings.regex_replace(lowercase, '&#\\d+;', '')\n",
    "    remove_hex = tf.strings.regex_replace(remove_colors, r'[^\\x00-\\x7f]', r'')\n",
    "    remove_url = tf.strings.regex_replace(remove_hex, 'http.+$', '')\n",
    "    remove_puntuation = tf.strings.regex_replace(remove_url, '[%s]' % re.escape(string.punctuation), '')\n",
    "    remove_amp = tf.strings.regex_replace(remove_puntuation, '&amp;', '')\n",
    "    return tf.strings.regex_replace(remove_amp, 'http.+$', '')"
   ]
  },
  {
   "cell_type": "code",
   "execution_count": 5,
   "metadata": {},
   "outputs": [],
   "source": [
    "def plot_sample_length_distribution(sample_texts):\n",
    "    \"\"\"Plots the sample length distribution.\n",
    "\n",
    "    # Arguments\n",
    "        samples_texts: list, sample texts.\n",
    "    \"\"\"\n",
    "    plt.hist([len(s) for s in sample_texts], 50)\n",
    "    plt.xlabel('Length of a sample')\n",
    "    plt.ylabel('Number of samples')\n",
    "    plt.title('Sample length distribution')\n",
    "    plt.show()"
   ]
  },
  {
   "cell_type": "markdown",
   "metadata": {},
   "source": [
    "### Define layers\n",
    "Here we define the a TextVectorization layer that will allow us to convert strings into vectors, using a vocabulary set. We also define the function that will allow us to vectorize our dataset.\n",
    "\n",
    "We define a vocabulary size of 10000 as it had better performance than 15000 and 5000. \n",
    "The vector size of 40 is based on the longest tweet in the dataset."
   ]
  },
  {
   "cell_type": "code",
   "execution_count": 6,
   "metadata": {},
   "outputs": [],
   "source": [
    "VOCABULARY_SIZE = 10000 #Number of vocabulary words (manually chosen)\n",
    "VECTOR_SEQ_SIZE = 40 #Max length of the vector (manually chosen)\n",
    "\n",
    "vectorize_layer = TextVectorization(\n",
    "    standardize=custom_standardization,\n",
    "    max_tokens=VOCABULARY_SIZE,\n",
    "    output_mode='int',\n",
    "    output_sequence_length=VECTOR_SEQ_SIZE)"
   ]
  },
  {
   "cell_type": "code",
   "execution_count": 7,
   "metadata": {},
   "outputs": [],
   "source": [
    "def vectorize_text(text, label):\n",
    "    \"\"\"Vectorize a define (text, label) dataset \"\"\"\n",
    "    text = tf.expand_dims(text, -1)\n",
    "    return vectorize_layer(text), label"
   ]
  },
  {
   "cell_type": "markdown",
   "metadata": {},
   "source": [
    "## Generate Dataset\n",
    "In order to create our classifier, we need to create a dataset that can be processed by TensorFlow. First, let's define the path of our input file"
   ]
  },
  {
   "cell_type": "code",
   "execution_count": 8,
   "metadata": {},
   "outputs": [],
   "source": [
    "CSV_FILE = \"./hate_speech_dataset_sample_complete.csv\" # Path of our CSV file containing the dataset\n",
    "LABEL_COLUMN = 'class' # This is the name of the column within the CSV file used as label\n",
    "SELECTED_COLUMNS = ['class','tweet'] #All other columns can be ignored"
   ]
  },
  {
   "cell_type": "markdown",
   "metadata": {},
   "source": [
    "The current dataset provided by a CSV file has 2 categories.\n",
    "* Hate speech (1)\n",
    "* Non-hate speech (0)"
   ]
  },
  {
   "cell_type": "code",
   "execution_count": 9,
   "metadata": {},
   "outputs": [],
   "source": [
    "full_df = pd.read_csv(CSV_FILE, sep=';')\n",
    "df = full_df[SELECTED_COLUMNS]\n",
    "\n",
    "df.loc[:, 'tweet'] = df.loc[:, 'tweet'].apply(lambda x: remove_username(x)) #Remove usernames and improve anonimity"
   ]
  },
  {
   "cell_type": "markdown",
   "metadata": {},
   "source": [
    "### Inspect the dataset\n",
    "Let see some useful information about the data that we will use to train the model"
   ]
  },
  {
   "cell_type": "code",
   "execution_count": 10,
   "metadata": {},
   "outputs": [
    {
     "name": "stdout",
     "output_type": "stream",
     "text": [
      "Maximum number of characters BEFORE cleaning the data: 183\n",
      "Length of longest tweet ★ @Subject1 ★ @Subject2 ★ @Subject3 ★ @Subject4 ★ GRAND OPENING ! ★ @Subject5 ★ @Subject6 ★ @Subject7 ★ @Subject8 ★ TOP CLASS ★ Oriental Massage ★ PERFECT ! ★ / http://t.co/4Hhxk9MKHe\n"
     ]
    }
   ],
   "source": [
    "num_characters = [len(s) for s in df['tweet']]\n",
    "print(\"Maximum number of characters BEFORE cleaning the data: \" + str(numpy.max(num_characters)))\n",
    "\n",
    "max_tweets = numpy.where(num_characters == numpy.max(num_characters))\n",
    "print(\"Length of longest tweet \" + str(df.loc[max_tweets[0][0],'tweet']))\n",
    "\n",
    "# print(\"Average number of characters BEFORE cleaning the data : \" + str(numpy.mean(num_characters)))"
   ]
  },
  {
   "cell_type": "markdown",
   "metadata": {},
   "source": [
    "Let's check the number of characters and calculate the number of samples / number of words per sample, this metric is useful if when deciding which model to use. Ideally a number > than 1500 suggest to use a Sequence model instead of n-grams"
   ]
  },
  {
   "cell_type": "code",
   "execution_count": 11,
   "metadata": {},
   "outputs": [
    {
     "name": "stdout",
     "output_type": "stream",
     "text": [
      "Average number of words in a sample: 15.898469988230678\n",
      "number of samples / number of words per sample: 2404.948402475497\n"
     ]
    }
   ],
   "source": [
    "num_words = [len(s.split()) for s in df['tweet']]\n",
    "print(\"Average number of words in a sample: \" + str(numpy.mean(num_words)))\n",
    "\n",
    "print(\"number of samples / number of words per sample: \" + str(len(df['tweet']) / numpy.mean(num_words)))"
   ]
  },
  {
   "cell_type": "code",
   "execution_count": 12,
   "metadata": {},
   "outputs": [
    {
     "data": {
      "image/png": "[encoded data removed]",
      "text/plain": [
       "<Figure size 432x288 with 1 Axes>"
      ]
     },
     "metadata": {
      "needs_background": "light"
     },
     "output_type": "display_data"
    }
   ],
   "source": [
    "plot_sample_length_distribution(df['tweet'])"
   ]
  },
  {
   "cell_type": "markdown",
   "metadata": {},
   "source": [
    "Now we split the dataframe between training and test"
   ]
  },
  {
   "cell_type": "code",
   "execution_count": 13,
   "metadata": {},
   "outputs": [
    {
     "name": "stdout",
     "output_type": "stream",
     "text": [
      "30588 train examples\n",
      "7647 test examples\n"
     ]
    }
   ],
   "source": [
    "train_df, test_df = train_test_split(df, test_size=0.2)\n",
    "print(len(train_df), 'train examples')\n",
    "print(len(test_df), 'test examples')"
   ]
  },
  {
   "cell_type": "markdown",
   "metadata": {},
   "source": [
    "Now we need to create a TensorFlow dataset using our cleaned dataframe. The next step is to define a batch size. We train the model using these batches. We will use a size of 256 as it has the best performance compared with 64 and 128. Going into bigger batches caused problems when trying to use different number of epochs (this is because we run out of data)"
   ]
  },
  {
   "cell_type": "code",
   "execution_count": 14,
   "metadata": {},
   "outputs": [],
   "source": [
    "BATCH_SIZE = 256\n",
    "train_ds = tf.data.Dataset.from_tensor_slices((train_df['tweet'].values, train_df['class'].values))\n",
    "train_ds = train_ds.batch(BATCH_SIZE)"
   ]
  },
  {
   "cell_type": "markdown",
   "metadata": {},
   "source": [
    "Let's see how our data looks like and do the same for the test dataset"
   ]
  },
  {
   "cell_type": "code",
   "execution_count": 15,
   "metadata": {},
   "outputs": [
    {
     "name": "stdout",
     "output_type": "stream",
     "text": [
      "Review b'RT @Subject1 : Remember when we paused an All-Star Game to honor Mariano Rivera ? #tbt http://t.co/PqEDosogLo'\n",
      "Label 1\n",
      "Review b'yey for wymt ! the concert was ace last night'\n",
      "Label 1\n",
      "Review b'@Subject1 Green and blacks ?'\n",
      "Label 1\n"
     ]
    }
   ],
   "source": [
    "for text_batch, label_batch in train_ds.take(1):\n",
    "    for i in range(3):\n",
    "        print(\"Review\", text_batch.numpy()[i])\n",
    "        print(\"Label\", label_batch.numpy()[i])"
   ]
  },
  {
   "cell_type": "code",
   "execution_count": 16,
   "metadata": {},
   "outputs": [],
   "source": [
    "test_ds = tf.data.Dataset.from_tensor_slices((test_df['tweet'].values, test_df['class'].values))\n",
    "test_ds = test_ds.batch(BATCH_SIZE)"
   ]
  },
  {
   "cell_type": "markdown",
   "metadata": {},
   "source": [
    "## Preprocess the data\n",
    "Now that the file is loaded in the dataset, we need to pre-process the data using all our previous set up."
   ]
  },
  {
   "cell_type": "code",
   "execution_count": 17,
   "metadata": {},
   "outputs": [],
   "source": [
    "# Make a text-only dataset (without labels), then call adapt\n",
    "train_text = train_ds.map(lambda x, y: x)\n",
    "vectorize_layer.adapt(train_text)"
   ]
  },
  {
   "cell_type": "code",
   "execution_count": 18,
   "metadata": {},
   "outputs": [],
   "source": [
    "# Vectorize the train and test datasets\n",
    "train_vectorized_ds = train_ds.map(vectorize_text)\n",
    "test_vectorized_ds = test_ds.map(vectorize_text)"
   ]
  },
  {
   "cell_type": "markdown",
   "metadata": {},
   "source": [
    "Before building and compiling the model, it is worthy to take a look to the content of `the train_vectorized_ds` variable."
   ]
  },
  {
   "cell_type": "code",
   "execution_count": 19,
   "metadata": {},
   "outputs": [
    {
     "name": "stdout",
     "output_type": "stream",
     "text": [
      "<MapDataset shapes: ((None, 40), (None,)), types: (tf.int64, tf.int64)>\n",
      "[   8    2  422   51   67    1   95 6250  230    6 2097 9635 5494 2783\n",
      "    0    0    0    0    0    0    0    0    0    0    0    0    0    0\n",
      "    0    0    0    0    0    0    0    0    0    0    0    0]\n"
     ]
    }
   ],
   "source": [
    "first_batch = train_vectorized_ds.take(1).as_numpy_iterator() # A single batch is made of 32 tweets with 32 labels\n",
    "print(train_vectorized_ds)\n",
    "first_tweet = next(first_batch)[0][0] # Get first combination of tweet, label and then get first tweet alone\n",
    "print(first_tweet)"
   ]
  },
  {
   "cell_type": "markdown",
   "metadata": {},
   "source": [
    "Checking the format that will be used to train our model give us some insights on:\n",
    "* The format in which we should provide texts to make predictions\n",
    "* How much padding should we use"
   ]
  },
  {
   "cell_type": "markdown",
   "metadata": {},
   "source": [
    "## Build the model\n",
    "We will create a sequential model that starts with \"an embedding layer stores one vector per word. When called, it converts the sequences of word indices to sequences of vectors. These vectors are trainable. After training (on enough data), words with similar meanings often have similar vectors\" []. Then we define \"a recurrent neural network (RNN) processes sequence input by iterating through the elements. RNNs pass the outputs from one timestep to their input—and then to the next\".\n",
    "\n",
    "\"The tf.keras.layers.Bidirectional wrapper can also be used with an RNN layer. This propagates the input forward and backwards through the RNN layer and then concatenates the output. This helps the RNN to learn long range dependencies.\""
   ]
  },
  {
   "cell_type": "code",
   "execution_count": 20,
   "metadata": {},
   "outputs": [],
   "source": [
    "model = tf.keras.Sequential([\n",
    "    tf.keras.layers.Embedding(len(vectorize_layer.get_vocabulary()), 64),\n",
    "    tf.keras.layers.Bidirectional(tf.keras.layers.LSTM(64)),\n",
    "    tf.keras.layers.Dense(64, activation='relu'),\n",
    "    tf.keras.layers.Dense(1)\n",
    "])"
   ]
  },
  {
   "cell_type": "markdown",
   "metadata": {},
   "source": [
    "## Compile the model"
   ]
  },
  {
   "cell_type": "code",
   "execution_count": 21,
   "metadata": {},
   "outputs": [],
   "source": [
    "model.compile(loss=tf.keras.losses.BinaryCrossentropy(from_logits=True),\n",
    "              optimizer=tf.keras.optimizers.Adam(1e-4),\n",
    "              metrics=['accuracy'])"
   ]
  },
  {
   "cell_type": "markdown",
   "metadata": {},
   "source": [
    "## Train the model\n",
    "Here we need to define the number of epochs, during each epoch the model goes through the whole dataset. If we use too many epochs we take the risk to overfit the model. Here I tested with 5, 8 and 13. 8 has the best performance."
   ]
  },
  {
   "cell_type": "code",
   "execution_count": 22,
   "metadata": {},
   "outputs": [
    {
     "name": "stdout",
     "output_type": "stream",
     "text": [
      "Epoch 1/8\n",
      "120/120 [==============================] - 27s 222ms/step - loss: 0.6804 - accuracy: 0.4729 - val_loss: 0.6346 - val_accuracy: 0.4718\n",
      "Epoch 2/8\n",
      "120/120 [==============================] - 26s 213ms/step - loss: 0.4500 - accuracy: 0.7746 - val_loss: 0.3251 - val_accuracy: 0.9083\n",
      "Epoch 3/8\n",
      "120/120 [==============================] - 26s 214ms/step - loss: 0.2676 - accuracy: 0.9087 - val_loss: 0.2385 - val_accuracy: 0.9328\n",
      "Epoch 4/8\n",
      "120/120 [==============================] - 27s 225ms/step - loss: 0.1631 - accuracy: 0.9482 - val_loss: 0.1576 - val_accuracy: 0.9504\n",
      "Epoch 5/8\n",
      "120/120 [==============================] - 26s 219ms/step - loss: 0.1041 - accuracy: 0.9684 - val_loss: 0.1292 - val_accuracy: 0.9596\n",
      "Epoch 6/8\n",
      "120/120 [==============================] - 26s 215ms/step - loss: 0.0817 - accuracy: 0.9764 - val_loss: 0.1257 - val_accuracy: 0.9621\n",
      "Epoch 7/8\n",
      "120/120 [==============================] - 26s 216ms/step - loss: 0.0706 - accuracy: 0.9800 - val_loss: 0.1281 - val_accuracy: 0.9625\n",
      "Epoch 8/8\n",
      "120/120 [==============================] - 26s 217ms/step - loss: 0.0629 - accuracy: 0.9835 - val_loss: 0.1325 - val_accuracy: 0.9609\n"
     ]
    }
   ],
   "source": [
    "history = model.fit(train_vectorized_ds, epochs=8,\n",
    "                    validation_data=test_vectorized_ds, \n",
    "                    validation_steps=30)"
   ]
  },
  {
   "cell_type": "markdown",
   "metadata": {},
   "source": [
    "### Calculate loss and accuracy\n",
    "Let's see how well the model is performing"
   ]
  },
  {
   "cell_type": "code",
   "execution_count": 23,
   "metadata": {},
   "outputs": [
    {
     "name": "stdout",
     "output_type": "stream",
     "text": [
      "30/30 [==============================] - 2s 73ms/step - loss: 0.1325 - accuracy: 0.9609\n",
      "Test Loss: 0.13245773315429688\n",
      "Test Accuracy: 0.9608997106552124\n"
     ]
    }
   ],
   "source": [
    "test_loss, test_acc = model.evaluate(test_vectorized_ds)\n",
    "\n",
    "print('Test Loss: {}'.format(test_loss))\n",
    "print('Test Accuracy: {}'.format(test_acc))"
   ]
  },
  {
   "cell_type": "markdown",
   "metadata": {},
   "source": [
    "## Plot accuracy and loss"
   ]
  },
  {
   "cell_type": "code",
   "execution_count": 24,
   "metadata": {},
   "outputs": [
    {
     "data": {
      "image/png": "[encoded data removed]",
      "text/plain": [
       "<Figure size 432x288 with 1 Axes>"
      ]
     },
     "metadata": {
      "needs_background": "light"
     },
     "output_type": "display_data"
    }
   ],
   "source": [
    "plot_graphs(history, 'accuracy')"
   ]
  },
  {
   "cell_type": "code",
   "execution_count": 25,
   "metadata": {},
   "outputs": [
    {
     "data": {
      "image/png": "[encoded data removed]",
      "text/plain": [
       "<Figure size 432x288 with 1 Axes>"
      ]
     },
     "metadata": {
      "needs_background": "light"
     },
     "output_type": "display_data"
    }
   ],
   "source": [
    "plot_graphs(history, 'loss')"
   ]
  },
  {
   "cell_type": "markdown",
   "metadata": {},
   "source": [
    "The plots show that starting for the 8th epoch, the `val_loss` started to increase, which means that the model could start to overfit. At this point is also clear that the `accurancy` reach a limit and it doesn make sense to continue training the model."
   ]
  },
  {
   "cell_type": "markdown",
   "metadata": {},
   "source": [
    "# Make a Prediction"
   ]
  },
  {
   "cell_type": "markdown",
   "metadata": {},
   "source": [
    "Now we can try to predict more Tweets now that our model is complete. In order to do this we need to encode the tweet, after that any value >= 0.5 would mean that the tweet is not agressive language."
   ]
  },
  {
   "cell_type": "code",
   "execution_count": 26,
   "metadata": {},
   "outputs": [
    {
     "name": "stdout",
     "output_type": "stream",
     "text": [
      "30/30 [==============================] - 2s 73ms/step - loss: 0.1325 - accuracy: 0.9609\n",
      "0.9608997106552124\n"
     ]
    }
   ],
   "source": [
    "export_model = tf.keras.Sequential([\n",
    "  vectorize_layer,\n",
    "  model,\n",
    "  layers.Activation('sigmoid')\n",
    "])\n",
    "\n",
    "export_model.compile(\n",
    "    loss=losses.BinaryCrossentropy(from_logits=False), optimizer=\"adam\", metrics=['accuracy']\n",
    ")\n",
    "\n",
    "loss, accuracy = export_model.evaluate(test_ds)\n",
    "print(accuracy)"
   ]
  },
  {
   "cell_type": "code",
   "execution_count": 27,
   "metadata": {},
   "outputs": [
    {
     "name": "stdout",
     "output_type": "stream",
     "text": [
      "[[0.9865834]]\n"
     ]
    }
   ],
   "source": [
    "predictions = export_model.predict([\"Rachel Griffiths writes and directs this award winning short film.\"])\n",
    "print(predictions)"
   ]
  },
  {
   "cell_type": "markdown",
   "metadata": {},
   "source": [
    "Everything above 0.5 means that the text is not hate speech, below 0.5 means that it is hate speech. Now that we can introduce strings as input, we can save and export this model to create our own API and perform our predictions on demand.\n",
    "\n",
    "## Save the model"
   ]
  },
  {
   "cell_type": "code",
   "execution_count": 28,
   "metadata": {},
   "outputs": [
    {
     "name": "stdout",
     "output_type": "stream",
     "text": [
      "WARNING:tensorflow:From /home/hector/workspace/uni/applied-deep-learning/nigthly/lib/python3.6/site-packages/tensorflow/python/training/tracking/tracking.py:111: Model.state_updates (from tensorflow.python.keras.engine.training) is deprecated and will be removed in a future version.\n",
      "Instructions for updating:\n",
      "This property should not be used in TensorFlow 2.0, as updates are applied automatically.\n",
      "WARNING:tensorflow:From /home/hector/workspace/uni/applied-deep-learning/nigthly/lib/python3.6/site-packages/tensorflow/python/training/tracking/tracking.py:111: Layer.updates (from tensorflow.python.keras.engine.base_layer) is deprecated and will be removed in a future version.\n",
      "Instructions for updating:\n",
      "This property should not be used in TensorFlow 2.0, as updates are applied automatically.\n",
      "INFO:tensorflow:Assets written to: hate_speech_model/assets\n"
     ]
    }
   ],
   "source": [
    "export_model.save('hate_speech_model')"
   ]
  },
  {
   "cell_type": "markdown",
   "metadata": {},
   "source": [
    "Let's test that our model can be loaded later and will still work"
   ]
  },
  {
   "cell_type": "code",
   "execution_count": 29,
   "metadata": {},
   "outputs": [],
   "source": [
    "loaded = tf.keras.models.load_model(\"hate_speech_model\", custom_objects={'TextVectorization':TextVectorization, \n",
    "                    'custom_standardization':custom_standardization})"
   ]
  },
  {
   "cell_type": "code",
   "execution_count": 30,
   "metadata": {},
   "outputs": [
    {
     "name": "stdout",
     "output_type": "stream",
     "text": [
      "0.9865834\n"
     ]
    }
   ],
   "source": [
    "prediction = loaded.predict([\"Rachel Griffiths writes and directs this award winning short film.\"])\n",
    "print(prediction[0][0])"
   ]
  },
  {
   "cell_type": "markdown",
   "metadata": {},
   "source": [
    "# Stack one more layer\n",
    "Let's see the behavior of the model if we stack another layer."
   ]
  },
  {
   "cell_type": "code",
   "execution_count": 31,
   "metadata": {},
   "outputs": [],
   "source": [
    "model = tf.keras.Sequential([\n",
    "    tf.keras.layers.Embedding(len(vectorize_layer.get_vocabulary()), 64),\n",
    "    tf.keras.layers.Bidirectional(tf.keras.layers.LSTM(64,  return_sequences=True)),\n",
    "    tf.keras.layers.Bidirectional(tf.keras.layers.LSTM(32)),\n",
    "    tf.keras.layers.Dense(64, activation='relu'),\n",
    "    tf.keras.layers.Dropout(0.5),\n",
    "    tf.keras.layers.Dense(1)\n",
    "])\n",
    "\n",
    "model.compile(loss=tf.keras.losses.BinaryCrossentropy(from_logits=True),\n",
    "              optimizer=tf.keras.optimizers.Adam(1e-4),\n",
    "              metrics=['accuracy'])"
   ]
  },
  {
   "cell_type": "code",
   "execution_count": 32,
   "metadata": {},
   "outputs": [
    {
     "name": "stdout",
     "output_type": "stream",
     "text": [
      "Epoch 1/8\n",
      "120/120 [==============================] - 49s 405ms/step - loss: 0.6788 - accuracy: 0.4759 - val_loss: 0.6181 - val_accuracy: 0.5147\n",
      "Epoch 2/8\n",
      "120/120 [==============================] - 53s 444ms/step - loss: 0.3582 - accuracy: 0.8469 - val_loss: 0.2183 - val_accuracy: 0.9272\n",
      "Epoch 3/8\n",
      "120/120 [==============================] - 62s 518ms/step - loss: 0.1700 - accuracy: 0.9495 - val_loss: 0.1444 - val_accuracy: 0.9529\n",
      "Epoch 4/8\n",
      "120/120 [==============================] - 56s 468ms/step - loss: 0.1212 - accuracy: 0.9674 - val_loss: 0.1348 - val_accuracy: 0.9592\n",
      "Epoch 5/8\n",
      "120/120 [==============================] - 56s 469ms/step - loss: 0.0967 - accuracy: 0.9762 - val_loss: 0.1387 - val_accuracy: 0.9588\n",
      "Epoch 6/8\n",
      "120/120 [==============================] - 50s 420ms/step - loss: 0.0852 - accuracy: 0.9790 - val_loss: 0.1397 - val_accuracy: 0.9589\n",
      "Epoch 7/8\n",
      "120/120 [==============================] - 48s 400ms/step - loss: 0.0801 - accuracy: 0.9803 - val_loss: 0.1430 - val_accuracy: 0.9583\n",
      "Epoch 8/8\n",
      "120/120 [==============================] - 45s 374ms/step - loss: 0.0705 - accuracy: 0.9826 - val_loss: 0.1444 - val_accuracy: 0.9575\n"
     ]
    }
   ],
   "source": [
    "history = model.fit(train_vectorized_ds, epochs=8,\n",
    "                    validation_data=test_vectorized_ds, \n",
    "                    validation_steps=30)"
   ]
  },
  {
   "cell_type": "code",
   "execution_count": 33,
   "metadata": {},
   "outputs": [
    {
     "name": "stdout",
     "output_type": "stream",
     "text": [
      "30/30 [==============================] - 4s 133ms/step - loss: 0.1444 - accuracy: 0.9575\n",
      "Test Loss: 0.14442288875579834\n",
      "Test Accuracy: 0.9574996829032898\n"
     ]
    }
   ],
   "source": [
    "test_loss, test_acc = model.evaluate(test_vectorized_ds)\n",
    "\n",
    "print('Test Loss: {}'.format(test_loss))\n",
    "print('Test Accuracy: {}'.format(test_acc))"
   ]
  },
  {
   "cell_type": "markdown",
   "metadata": {},
   "source": [
    "The difference is not really good, hence we will keep our model with just one layer."
   ]
  }
 ],
 "metadata": {
  "kernelspec": {
   "display_name": "Python 3",
   "language": "python",
   "name": "python3"
  },
  "language_info": {
   "codemirror_mode": {
    "name": "ipython",
    "version": 3
   },
   "file_extension": ".py",
   "mimetype": "text/x-python",
   "name": "python",
   "nbconvert_exporter": "python",
   "pygments_lexer": "ipython3",
   "version": "3.6.9"
  }
 },
 "nbformat": 4,
 "nbformat_minor": 4
}
