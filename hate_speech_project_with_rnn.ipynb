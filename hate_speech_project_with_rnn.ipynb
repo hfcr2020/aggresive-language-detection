{
 "cells": [
  {
   "cell_type": "markdown",
   "metadata": {},
   "source": [
    "# Hate Speech Classifier"
   ]
  },
  {
   "cell_type": "markdown",
   "metadata": {},
   "source": [
    "## Import libraries\n",
    "Along the project we will use different libraries to: load the data from a CSV files (pandas), preprocess the data (re, string, nltk), create the training and test datasets (sklearn) and of course TensorFlow for all Machine Learning modeling"
   ]
  },
  {
   "cell_type": "code",
   "execution_count": 1,
   "metadata": {},
   "outputs": [
    {
     "name": "stdout",
     "output_type": "stream",
     "text": [
      "2.3.0\n"
     ]
    }
   ],
   "source": [
    "import re\n",
    "import numpy\n",
    "import string\n",
    "import pandas as pd\n",
    "import tensorflow as tf\n",
    "import tensorflowjs as tfjs\n",
    "import matplotlib.pyplot as plt\n",
    "import tensorflow_datasets as tfds\n",
    "\n",
    "from tensorflow.keras import layers\n",
    "from tensorflow.keras import losses\n",
    "from nltk.tokenize import TweetTokenizer\n",
    "from tensorflow.keras import preprocessing\n",
    "from sklearn.model_selection import train_test_split\n",
    "from tensorflow.keras.layers.experimental.preprocessing import TextVectorization\n",
    "\n",
    "print(tf.__version__) #Make sure to use the latest TensorFlow verion (nightly)"
   ]
  },
  {
   "cell_type": "markdown",
   "metadata": {},
   "source": [
    "## Custom Functions\n",
    "Here we will define custom functions used along the project to plot, preprocess the data and vectorize it"
   ]
  },
  {
   "cell_type": "code",
   "execution_count": 2,
   "metadata": {},
   "outputs": [],
   "source": [
    "def plot_graphs(history, metric):\n",
    "    \"\"\"Plot metrics against epochs \"\"\"\n",
    "    plt.plot(history.history[metric])\n",
    "    plt.plot(history.history['val_'+ metric], '')\n",
    "    plt.xlabel(\"Epochs\")\n",
    "    plt.ylabel(metric)\n",
    "    plt.legend([metric, 'val_'+ metric])\n",
    "    plt.show()"
   ]
  },
  {
   "cell_type": "code",
   "execution_count": 3,
   "metadata": {},
   "outputs": [],
   "source": [
    "tweet_tokenizer = TweetTokenizer()\n",
    "\n",
    "def remove_username(tweet):\n",
    "    \"\"\"Replaces tweeter usernames for standard names \n",
    "    \n",
    "    # Arguments\n",
    "        input_data: tweet to clean.\n",
    "    \"\"\"\n",
    "    tokenized_tweet = tweet_tokenizer.tokenize(tweet) #Tokenize the tweet preserving the @ symbol\n",
    "    count = 0\n",
    "    sub_counter = 0\n",
    "    for word in tokenized_tweet:\n",
    "        if (re.match('^@.*', word) != None): #Matches any username\n",
    "            sub_counter = sub_counter + 1\n",
    "            tokenized_tweet[count] = re.sub('^@.*', '@Subject' + str(sub_counter), word)\n",
    "        count = count + 1\n",
    "    return \" \".join(tokenized_tweet)"
   ]
  },
  {
   "cell_type": "code",
   "execution_count": 4,
   "metadata": {},
   "outputs": [],
   "source": [
    "def custom_standardization(input_data):\n",
    "    \"\"\"Clean and transform input data to lowercase\n",
    "    \n",
    "    # Arguments\n",
    "        input_data: tweet to clean.\n",
    "    \"\"\"\n",
    "    lowercase = tf.strings.lower(input_data)\n",
    "    remove_colors = tf.strings.regex_replace(lowercase, '&#\\d+;', '')\n",
    "    remove_hex = tf.strings.regex_replace(remove_colors, r'[^\\x00-\\x7f]', r'')\n",
    "    remove_url = tf.strings.regex_replace(remove_hex, 'http.+$', '')\n",
    "    remove_puntuation = tf.strings.regex_replace(remove_url, '[%s]' % re.escape(string.punctuation), '')\n",
    "    remove_amp = tf.strings.regex_replace(remove_url, '&amp;', '')\n",
    "    return tf.strings.regex_replace(remove_amp, 'http.+$', '')"
   ]
  },
  {
   "cell_type": "code",
   "execution_count": 5,
   "metadata": {},
   "outputs": [],
   "source": [
    "def plot_sample_length_distribution(sample_texts):\n",
    "    \"\"\"Plots the sample length distribution.\n",
    "\n",
    "    # Arguments\n",
    "        samples_texts: list, sample texts.\n",
    "    \"\"\"\n",
    "    plt.hist([len(s) for s in sample_texts], 50)\n",
    "    plt.xlabel('Length of a sample')\n",
    "    plt.ylabel('Number of samples')\n",
    "    plt.title('Sample length distribution')\n",
    "    plt.show()"
   ]
  },
  {
   "cell_type": "markdown",
   "metadata": {},
   "source": [
    "### Define layers\n",
    "Here we define the a TextVectorization layer that will allow us to convert strings into vectors, using a vocabulary. We also define the function that will allow us to vectorize our dataset.\n",
    "\n",
    "We define a vocabulary size of 10000 as it had better performance than 15000 and 5000. \n",
    "The vector size of 40 is based on the longest tweet in the dataset."
   ]
  },
  {
   "cell_type": "code",
   "execution_count": 6,
   "metadata": {},
   "outputs": [],
   "source": [
    "VOCABULARY_SIZE = 10000 #Number of vocabulary words (manually chosen)\n",
    "VECTOR_SEQ_SIZE = 40 #Max length of the vector (manually chosen)\n",
    "\n",
    "vectorize_layer = TextVectorization(\n",
    "    standardize=custom_standardization,\n",
    "    max_tokens=VOCABULARY_SIZE,\n",
    "    output_mode='int',\n",
    "    output_sequence_length=VECTOR_SEQ_SIZE)"
   ]
  },
  {
   "cell_type": "code",
   "execution_count": 7,
   "metadata": {},
   "outputs": [],
   "source": [
    "def vectorize_text(text, label):\n",
    "    \"\"\"Vectorize a define (text, label) dataset \"\"\"\n",
    "    text = tf.expand_dims(text, -1)\n",
    "    return vectorize_layer(text), label"
   ]
  },
  {
   "cell_type": "markdown",
   "metadata": {},
   "source": [
    "## Generate Dataset\n",
    "In order to create our classifier, we need to create a dataset that can be processed by TensorFlow. First, let's define the path of our input file"
   ]
  },
  {
   "cell_type": "code",
   "execution_count": 8,
   "metadata": {},
   "outputs": [],
   "source": [
    "CSV_FILE = \"./hate_speech_dataset_sample_complete.csv\" # Path of our CSV file containing the dataset\n",
    "LABEL_COLUMN = 'class' # This is the name of the column within the CSV file used as label\n",
    "SELECTED_COLUMNS = ['class','tweet'] #All other columns can be ignored"
   ]
  },
  {
   "cell_type": "markdown",
   "metadata": {},
   "source": [
    "The current dataset provided by a CSV file has more that one category, this is because it makes separation between:\n",
    "* Hate speech/aggresive language\n",
    "* Non-aggressive language"
   ]
  },
  {
   "cell_type": "code",
   "execution_count": 9,
   "metadata": {},
   "outputs": [],
   "source": [
    "full_df = pd.read_csv(CSV_FILE, sep=';')\n",
    "df = full_df[SELECTED_COLUMNS]\n",
    "\n",
    "df.loc[:, 'tweet'] = df.loc[:, 'tweet'].apply(lambda x: remove_username(x)) #Remove usernames and improve anonimity"
   ]
  },
  {
   "cell_type": "markdown",
   "metadata": {},
   "source": [
    "### Inspect the dataset\n",
    "Let see some useful information about the data that we will use to train the model"
   ]
  },
  {
   "cell_type": "code",
   "execution_count": 10,
   "metadata": {},
   "outputs": [
    {
     "name": "stdout",
     "output_type": "stream",
     "text": [
      "Maximum number of characters BEFORE cleaning the data: 183\n",
      "Length of longest tweet ★ @Subject1 ★ @Subject2 ★ @Subject3 ★ @Subject4 ★ GRAND OPENING ! ★ @Subject5 ★ @Subject6 ★ @Subject7 ★ @Subject8 ★ TOP CLASS ★ Oriental Massage ★ PERFECT ! ★ / http://t.co/4Hhxk9MKHe\n"
     ]
    }
   ],
   "source": [
    "num_characters = [len(s) for s in df['tweet']]\n",
    "print(\"Maximum number of characters BEFORE cleaning the data: \" + str(numpy.max(num_characters)))\n",
    "\n",
    "max_tweets = numpy.where(num_characters == numpy.max(num_characters))\n",
    "print(\"Length of longest tweet \" + str(df.loc[max_tweets[0][0],'tweet']))\n",
    "\n",
    "# print(\"Average number of characters BEFORE cleaning the data : \" + str(numpy.mean(num_characters)))"
   ]
  },
  {
   "cell_type": "markdown",
   "metadata": {},
   "source": [
    "Let's check the number of characters and calculate the number of samples / number of words per sample, this metric is useful if when deciding which model to use. Ideally a number > than 1500 suggest to use a Sequence model instead of n-grams"
   ]
  },
  {
   "cell_type": "code",
   "execution_count": 11,
   "metadata": {},
   "outputs": [
    {
     "name": "stdout",
     "output_type": "stream",
     "text": [
      "Average number of words in a sample: 15.898469988230678\n",
      "number of samples / number of words per sample: 2404.948402475497\n"
     ]
    }
   ],
   "source": [
    "num_words = [len(s.split()) for s in df['tweet']]\n",
    "print(\"Average number of words in a sample: \" + str(numpy.mean(num_words)))\n",
    "\n",
    "print(\"number of samples / number of words per sample: \" + str(len(df['tweet']) / numpy.mean(num_words)))"
   ]
  },
  {
   "cell_type": "code",
   "execution_count": 12,
   "metadata": {},
   "outputs": [
    {
     "data": {
      "image/png": "[encoded data removed]",
      "text/plain": [
       "<Figure size 432x288 with 1 Axes>"
      ]
     },
     "metadata": {
      "needs_background": "light"
     },
     "output_type": "display_data"
    }
   ],
   "source": [
    "plot_sample_length_distribution(df['tweet'])"
   ]
  },
  {
   "cell_type": "markdown",
   "metadata": {},
   "source": [
    "Now we split the dataframe between training and test"
   ]
  },
  {
   "cell_type": "code",
   "execution_count": 13,
   "metadata": {},
   "outputs": [
    {
     "name": "stdout",
     "output_type": "stream",
     "text": [
      "30588 train examples\n",
      "7647 test examples\n"
     ]
    }
   ],
   "source": [
    "train_df, test_df = train_test_split(df, test_size=0.2)\n",
    "print(len(train_df), 'train examples')\n",
    "print(len(test_df), 'test examples')"
   ]
  },
  {
   "cell_type": "markdown",
   "metadata": {},
   "source": [
    "Now we need to create a TensorFlow dataset using our cleaned dataframe. The next step is to define a batch size. We train the model using these batches. We will use a size of 256 as it has the best performance compared with 64 and 128. Going into bigger batches caused problems when trying to use different number of epochs (this is because we run out of data)"
   ]
  },
  {
   "cell_type": "code",
   "execution_count": 14,
   "metadata": {},
   "outputs": [],
   "source": [
    "BATCH_SIZE = 256\n",
    "train_ds = tf.data.Dataset.from_tensor_slices((train_df['tweet'].values, train_df['class'].values))\n",
    "train_ds = train_ds.batch(BATCH_SIZE)"
   ]
  },
  {
   "cell_type": "markdown",
   "metadata": {},
   "source": [
    "Let's see how our data looks like and do the same for the test dataset"
   ]
  },
  {
   "cell_type": "code",
   "execution_count": 15,
   "metadata": {},
   "outputs": [
    {
     "name": "stdout",
     "output_type": "stream",
     "text": [
      "Review b\"@Subject1 I highly doubt you're a real woman . You're prolly a fat ass man . Who fuckin cares ? ! ? Let me do me ho\"\n",
      "Label 0\n",
      "Review b\"Want to go get this brownie , I'm stuck doe .\"\n",
      "Label 1\n",
      "Review b'RT @Subject1 : @Subject2 is the realest bitch I know . Lol'\n",
      "Label 0\n"
     ]
    }
   ],
   "source": [
    "for text_batch, label_batch in train_ds.take(1):\n",
    "    for i in range(3):\n",
    "        print(\"Review\", text_batch.numpy()[i])\n",
    "        print(\"Label\", label_batch.numpy()[i])"
   ]
  },
  {
   "cell_type": "code",
   "execution_count": 16,
   "metadata": {},
   "outputs": [],
   "source": [
    "test_ds = tf.data.Dataset.from_tensor_slices((test_df['tweet'].values, test_df['class'].values))\n",
    "test_ds = test_ds.batch(BATCH_SIZE)"
   ]
  },
  {
   "cell_type": "markdown",
   "metadata": {},
   "source": [
    "## Preprocess the data\n",
    "Now that the file is loaded in the dataset, we need to pre-process the data using all our previous set up."
   ]
  },
  {
   "cell_type": "code",
   "execution_count": 17,
   "metadata": {},
   "outputs": [],
   "source": [
    "# Make a text-only dataset (without labels), then call adapt\n",
    "train_text = train_ds.map(lambda x, y: x)\n",
    "vectorize_layer.adapt(train_text)"
   ]
  },
  {
   "cell_type": "code",
   "execution_count": 18,
   "metadata": {},
   "outputs": [],
   "source": [
    "# Vectorize the train and test datasets\n",
    "train_vectorized_ds = train_ds.map(vectorize_text)\n",
    "test_vectorized_ds = test_ds.map(vectorize_text)"
   ]
  },
  {
   "cell_type": "markdown",
   "metadata": {},
   "source": [
    "Before building and compiling the model, it is worthy to take a look to the content of `the train_vectorized_ds` variable."
   ]
  },
  {
   "cell_type": "code",
   "execution_count": 19,
   "metadata": {},
   "outputs": [
    {
     "name": "stdout",
     "output_type": "stream",
     "text": [
      "<MapDataset shapes: ((None, 40), (None,)), types: (tf.int64, tf.int64)>\n",
      "[   2    4 2256 1588  114    5  176  535    3  114  971    5  355   62\n",
      "  136    3  104  337 1485   20    6   20  174   27   63   27  362    0\n",
      "    0    0    0    0    0    0    0    0    0    0    0    0]\n"
     ]
    }
   ],
   "source": [
    "first_batch = train_vectorized_ds.take(1).as_numpy_iterator() # A single batch is made of 32 tweets with 32 labels\n",
    "print(train_vectorized_ds)\n",
    "first_tweet = next(first_batch)[0][0] # Get first combination of tweet, label and then get first tweet alone\n",
    "print(first_tweet)"
   ]
  },
  {
   "cell_type": "markdown",
   "metadata": {},
   "source": [
    "Checking the format that will be used to train our model give us some insights on:\n",
    "* The format in which we should provide texts to make predictions\n",
    "* How much padding should we use"
   ]
  },
  {
   "cell_type": "markdown",
   "metadata": {},
   "source": [
    "## Build the model\n",
    "We will create a sequential model that starts with \"an embedding layer stores one vector per word. When called, it converts the sequences of word indices to sequences of vectors. These vectors are trainable. After training (on enough data), words with similar meanings often have similar vectors\" []. Then we define \"a recurrent neural network (RNN) processes sequence input by iterating through the elements. RNNs pass the outputs from one timestep to their input—and then to the next\".\n",
    "\n",
    "\"The tf.keras.layers.Bidirectional wrapper can also be used with an RNN layer. This propagates the input forward and backwards through the RNN layer and then concatenates the output. This helps the RNN to learn long range dependencies.\""
   ]
  },
  {
   "cell_type": "code",
   "execution_count": 32,
   "metadata": {},
   "outputs": [],
   "source": [
    "class CustomInnerModel(tf.keras.Model):\n",
    "    def __init__(self, vectorize_layer):\n",
    "        super(CustomInnerModel, self).__init__()\n",
    "        self.inner_layers = [\n",
    "            tf.keras.layers.Embedding(len(vectorize_layer.get_vocabulary()), 64),\n",
    "            tf.keras.layers.Bidirectional(tf.keras.layers.LSTM(64)),\n",
    "            tf.keras.layers.Dense(64, activation='relu'),\n",
    "            tf.keras.layers.Dense(1)\n",
    "        ]\n",
    "\n",
    "    def call(self, inputs):\n",
    "        x = inputs\n",
    "        for layer in self.inner_layers:\n",
    "            x = layer(x)\n",
    "        return x\n",
    "    \n",
    "model = tf.keras.Sequential(CustomInnerModel(vectorize_layer))"
   ]
  },
  {
   "cell_type": "markdown",
   "metadata": {},
   "source": [
    "## Compile the model"
   ]
  },
  {
   "cell_type": "code",
   "execution_count": 33,
   "metadata": {},
   "outputs": [],
   "source": [
    "model.compile(loss=tf.keras.losses.BinaryCrossentropy(from_logits=True),\n",
    "              optimizer=tf.keras.optimizers.Adam(1e-4),\n",
    "              metrics=['accuracy'])"
   ]
  },
  {
   "cell_type": "markdown",
   "metadata": {},
   "source": [
    "## Train the model\n",
    "Here we need to define the number of epochs, during each epoch the model goes through the whole dataset. If we use too many epochs we take the risk to overfit the model. Here I tested with 5, 8 and 13. 8 has the best performance."
   ]
  },
  {
   "cell_type": "code",
   "execution_count": 34,
   "metadata": {},
   "outputs": [
    {
     "name": "stdout",
     "output_type": "stream",
     "text": [
      "120/120 [==============================] - 23s 191ms/step - loss: 0.6734 - accuracy: 0.4724 - val_loss: 0.6051 - val_accuracy: 0.5352\n"
     ]
    }
   ],
   "source": [
    "history = model.fit(train_vectorized_ds, epochs=1,\n",
    "                    validation_data=test_vectorized_ds, \n",
    "                    validation_steps=1)"
   ]
  },
  {
   "cell_type": "markdown",
   "metadata": {},
   "source": [
    "### Calculate loss and accuracy\n",
    "Let's see how well the model is performing"
   ]
  },
  {
   "cell_type": "code",
   "execution_count": 35,
   "metadata": {},
   "outputs": [
    {
     "name": "stdout",
     "output_type": "stream",
     "text": [
      "30/30 [==============================] - 2s 63ms/step - loss: 0.6105 - accuracy: 0.5793\n",
      "Test Loss: 0.610486626625061\n",
      "Test Accuracy: 0.5793121457099915\n"
     ]
    }
   ],
   "source": [
    "test_loss, test_acc = model.evaluate(test_vectorized_ds)\n",
    "\n",
    "print('Test Loss: {}'.format(test_loss))\n",
    "print('Test Accuracy: {}'.format(test_acc))"
   ]
  },
  {
   "cell_type": "markdown",
   "metadata": {},
   "source": [
    "## Plot accuracy and loss"
   ]
  },
  {
   "cell_type": "code",
   "execution_count": 36,
   "metadata": {},
   "outputs": [
    {
     "data": {
      "image/png": "[encoded data removed]",
      "text/plain": [
       "<Figure size 432x288 with 1 Axes>"
      ]
     },
     "metadata": {
      "needs_background": "light"
     },
     "output_type": "display_data"
    }
   ],
   "source": [
    "plot_graphs(history, 'accuracy')"
   ]
  },
  {
   "cell_type": "code",
   "execution_count": 37,
   "metadata": {},
   "outputs": [
    {
     "data": {
      "image/png": "[encoded data removed]",
      "text/plain": [
       "<Figure size 432x288 with 1 Axes>"
      ]
     },
     "metadata": {
      "needs_background": "light"
     },
     "output_type": "display_data"
    }
   ],
   "source": [
    "plot_graphs(history, 'loss')"
   ]
  },
  {
   "cell_type": "markdown",
   "metadata": {},
   "source": [
    "# Make a Prediction"
   ]
  },
  {
   "cell_type": "markdown",
   "metadata": {},
   "source": [
    "Now we can try to predict more Tweets now that our model is complete. In order to do this we need to encode the tweet, after that any value >= 0.5 would mean that the tweet is not agressive language."
   ]
  },
  {
   "cell_type": "code",
   "execution_count": 38,
   "metadata": {},
   "outputs": [],
   "source": [
    "sample_pred_text = ('Nigger hoe This is a test, even if I add some bad words here, they might not be considered aggresive language',\n",
    "                   'You will die with so much fun!',\n",
    "                    'You should die and go to hell, I hate people like you!',\n",
    "                   'We need to get rid of people like that they are trash',\n",
    "                   'Niggers people should be killed')\n",
    "\n",
    "vectorized_sample = vectorize_text(sample_pred_text, 0) # Here we add a 0 class value just because the `vectorize_text` function requires 2 parameters"
   ]
  },
  {
   "cell_type": "code",
   "execution_count": 28,
   "metadata": {},
   "outputs": [
    {
     "ename": "NameError",
     "evalue": "name 'export_model' is not defined",
     "output_type": "error",
     "traceback": [
      "\u001b[0;31m---------------------------------------------------------------------------\u001b[0m",
      "\u001b[0;31mNameError\u001b[0m                                 Traceback (most recent call last)",
      "\u001b[0;32m<ipython-input-28-a58e4d72d136>\u001b[0m in \u001b[0;36m<module>\u001b[0;34m\u001b[0m\n\u001b[0;32m----> 1\u001b[0;31m \u001b[0mpredictions\u001b[0m \u001b[0;34m=\u001b[0m \u001b[0mexport_model\u001b[0m\u001b[0;34m.\u001b[0m\u001b[0mpredict\u001b[0m\u001b[0;34m(\u001b[0m\u001b[0msample_pred_text\u001b[0m\u001b[0;34m)\u001b[0m\u001b[0;34m\u001b[0m\u001b[0;34m\u001b[0m\u001b[0m\n\u001b[0m\u001b[1;32m      2\u001b[0m \u001b[0mprint\u001b[0m\u001b[0;34m(\u001b[0m\u001b[0mpredictions\u001b[0m\u001b[0;34m)\u001b[0m\u001b[0;34m\u001b[0m\u001b[0;34m\u001b[0m\u001b[0m\n",
      "\u001b[0;31mNameError\u001b[0m: name 'export_model' is not defined"
     ]
    }
   ],
   "source": [
    "predictions = export_model.predict(sample_pred_text)\n",
    "print(predictions)"
   ]
  },
  {
   "cell_type": "markdown",
   "metadata": {},
   "source": [
    "## Save the model\n",
    "Let's save the model before continue, we will deploy this model later in a browser"
   ]
  },
  {
   "cell_type": "code",
   "execution_count": 39,
   "metadata": {},
   "outputs": [
    {
     "name": "stdout",
     "output_type": "stream",
     "text": [
      "INFO:tensorflow:Assets written to: my_model/assets\n"
     ]
    }
   ],
   "source": [
    "model.save(\"my_model\")\n",
    "\n",
    "# Delete the custom-defined model class to ensure that the loader does not have\n",
    "# access to it.\n",
    "del CustomInnerModel\n",
    "\n",
    "loaded = tf.keras.models.load_model(\"my_model\")\n"
   ]
  },
  {
   "cell_type": "code",
   "execution_count": 31,
   "metadata": {},
   "outputs": [
    {
     "ename": "NameError",
     "evalue": "name 'input_arr' is not defined",
     "output_type": "error",
     "traceback": [
      "\u001b[0;31m---------------------------------------------------------------------------\u001b[0m",
      "\u001b[0;31mNameError\u001b[0m                                 Traceback (most recent call last)",
      "\u001b[0;32m<ipython-input-31-229df1daadbb>\u001b[0m in \u001b[0;36m<module>\u001b[0;34m\u001b[0m\n\u001b[1;32m      1\u001b[0m \u001b[0mloaded\u001b[0m \u001b[0;34m=\u001b[0m \u001b[0mtf\u001b[0m\u001b[0;34m.\u001b[0m\u001b[0mkeras\u001b[0m\u001b[0;34m.\u001b[0m\u001b[0mmodels\u001b[0m\u001b[0;34m.\u001b[0m\u001b[0mload_model\u001b[0m\u001b[0;34m(\u001b[0m\u001b[0;34m\"my_model\"\u001b[0m\u001b[0;34m)\u001b[0m\u001b[0;34m\u001b[0m\u001b[0;34m\u001b[0m\u001b[0m\n\u001b[0;32m----> 2\u001b[0;31m \u001b[0mnumpy\u001b[0m\u001b[0;34m.\u001b[0m\u001b[0mtesting\u001b[0m\u001b[0;34m.\u001b[0m\u001b[0massert_allclose\u001b[0m\u001b[0;34m(\u001b[0m\u001b[0mloaded\u001b[0m\u001b[0;34m(\u001b[0m\u001b[0minput_arr\u001b[0m\u001b[0;34m)\u001b[0m\u001b[0;34m,\u001b[0m \u001b[0moutputs\u001b[0m\u001b[0;34m)\u001b[0m\u001b[0;34m\u001b[0m\u001b[0;34m\u001b[0m\u001b[0m\n\u001b[0m",
      "\u001b[0;31mNameError\u001b[0m: name 'input_arr' is not defined"
     ]
    }
   ],
   "source": [
    "loaded = tf.keras.models.load_model(\"my_model\")"
   ]
  },
  {
   "cell_type": "code",
   "execution_count": null,
   "metadata": {},
   "outputs": [],
   "source": [
    "export_model = tf.keras.Sequential([\n",
    "  vectorize_layer,\n",
    "  model,\n",
    "  layers.Activation('sigmoid')\n",
    "])\n",
    "\n",
    "export_model.compile(\n",
    "    loss=losses.BinaryCrossentropy(from_logits=False), optimizer=\"adam\", metrics=['accuracy']\n",
    ")\n",
    "\n",
    "# Ensure that the accuracy is the same\n",
    "loss, accuracy = export_model.evaluate(test_ds)\n",
    "print(accuracy)"
   ]
  },
  {
   "cell_type": "code",
   "execution_count": null,
   "metadata": {},
   "outputs": [],
   "source": [
    "export_model.save('./js', save_format='tf')"
   ]
  },
  {
   "cell_type": "markdown",
   "metadata": {},
   "source": [
    "# Stack one more layer\n"
   ]
  },
  {
   "cell_type": "code",
   "execution_count": null,
   "metadata": {},
   "outputs": [],
   "source": [
    "model_with_extra_layer = tf.keras.Sequential([\n",
    "    tf.keras.layers.Embedding(len(vectorize_layer.get_vocabulary()), 64),\n",
    "    tf.keras.layers.Bidirectional(tf.keras.layers.LSTM(64,  return_sequences=True)),\n",
    "    tf.keras.layers.Bidirectional(tf.keras.layers.LSTM(32)),\n",
    "    tf.keras.layers.Dense(64, activation='relu'),\n",
    "    tf.keras.layers.Dropout(0.5),\n",
    "    tf.keras.layers.Dense(1)\n",
    "])\n",
    "\n",
    "model_with_extra_layer.compile(loss=tf.keras.losses.BinaryCrossentropy(from_logits=True),\n",
    "              optimizer=tf.keras.optimizers.Adam(1e-4),\n",
    "              metrics=['accuracy'])"
   ]
  },
  {
   "cell_type": "code",
   "execution_count": null,
   "metadata": {},
   "outputs": [],
   "source": [
    "history = model_with_extra_layer.fit(train_vectorized_ds, epochs=8,\n",
    "                    validation_data=test_vectorized_ds, \n",
    "                    validation_steps=30)"
   ]
  },
  {
   "cell_type": "code",
   "execution_count": null,
   "metadata": {},
   "outputs": [],
   "source": [
    "test_loss, test_acc = model_with_extra_layer.evaluate(test_vectorized_ds)\n",
    "\n",
    "print('Test Loss: {}'.format(test_loss))\n",
    "print('Test Accuracy: {}'.format(test_acc))"
   ]
  },
  {
   "cell_type": "markdown",
   "metadata": {},
   "source": [
    "We notice that the effect of another layer is not remarkable. Hence we will proceed with the first model."
   ]
  }
 ],
 "metadata": {
  "kernelspec": {
   "display_name": "Python 3",
   "language": "python",
   "name": "python3"
  },
  "language_info": {
   "codemirror_mode": {
    "name": "ipython",
    "version": 3
   },
   "file_extension": ".py",
   "mimetype": "text/x-python",
   "name": "python",
   "nbconvert_exporter": "python",
   "pygments_lexer": "ipython3",
   "version": "3.6.9"
  }
 },
 "nbformat": 4,
 "nbformat_minor": 4
}
